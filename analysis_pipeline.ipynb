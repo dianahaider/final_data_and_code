{
 "cells": [
  {
   "cell_type": "code",
   "execution_count": 1,
   "metadata": {},
   "outputs": [],
   "source": [
    "#import libraries in python3 kernel\n",
    "import pandas as pd\n",
    "import seaborn as sns\n",
    "import glob\n",
    "import os\n",
    "import boto\n",
    "import matplotlib.pyplot as plt\n",
    "import matplotlib.colors as colors\n",
    "from matplotlib.colors import LogNorm\n",
    "import numpy as np\n",
    "import skbio\n",
    "#import fastcluster #this thing is tricky for clustermap when not all relationship exists\n",
    "from functools import reduce\n",
    "from Bio import SeqIO\n",
    "from Bio.SeqIO.FastaIO import SimpleFastaParser\n",
    "from Bio.SeqUtils import GC\n",
    "from collections import defaultdict\n",
    "from collections import Counter\n",
    "import statistics\n",
    "import itertools as it\n",
    "from scipy import stats\n",
    "from matplotlib.ticker import FormatStrFormatter\n",
    "%matplotlib inline"
   ]
  },
  {
   "cell_type": "code",
   "execution_count": 2,
   "metadata": {},
   "outputs": [],
   "source": [
    "#paths to files needed as inputs for respective functions\n",
    "all_merged_path_18s = '/Users/Diana/Documents/escuela/phd/plugin_paper/mock_code/18S/merged_all_18s_tables.tsv'\n",
    "all_merged_path_16s = '/Users/Diana/Documents/escuela/phd/plugin_paper/final_data_and_code/input_data/merged_all_tables_16s.tsv'\n",
    "manifestfile_path = '/Users/Diana/Documents/escuela/phd/plugin_paper/final_data_and_code/input_data/MANIFEST.tsv'\n",
    "metadatafile_path = '/Users/Diana/Documents/escuela/phd/plugin_paper/final_data_and_code/input_data/METADATA.tsv'\n",
    "path_to_tsvs_18s = '/Users/Diana/Documents/escuela/phd/plugin_paper/mock_code/18S/all_trims/all_taxonomies/'\n",
    "path_to_tsvs_16s = '/Users/Diana/Documents/escuela/phd/plugin_paper/mock_code/16S/02-PROKs/all_taxonomies/'\n",
    "path_to_bacaro = '/Users/Diana/Documents/escuela/phd/plugin_paper/mock_code/18S/TD_metric/Bacaros_Beta/all18sstagg_s_lvl7/all_18s_stagg_taxo.csv'\n",
    "expected_file = 'expected_18s_staggered'\n",
    "path_to_expected_18s_stag = '/Users/Diana/Documents/escuela/phd/plugin_paper/mock_code/IN-SILICO/in-silico-mocks/18s_stagg_even_expected_tax.tsv'\n",
    "path_to_expected_18s_even = '/Users/Diana/Documents/escuela/phd/plugin_paper/mock_code/IN-SILICO/in-silico-mocks/18s_stagg_even_expected_tax.tsv'\n",
    "path_to_expected_16s_stag = '/Users/Diana/Documents/escuela/phd/plugin_paper/mock_code/IN-SILICO/in-silico-mocks/18s_stagg_even_expected_tax.tsv'\n",
    "path_to_expected_16s_even = '/Users/Diana/Documents/escuela/phd/plugin_paper/mock_code/IN-SILICO/in-silico-mocks/18s_stagg_even_expected_tax.tsv'\n",
    "path_to_expected_16s = '/Users/Diana/Documents/escuela/phd/plugin_paper/mock_code/IN-SILICO/in-silico-mocks/18s_stagg_even_expected_tax.tsv'\n",
    "\n",
    "\n",
    "\n",
    "path_to_fastQC_forward = '/Users/Diana/Documents/escuela/phd/plugin_paper/mock_code/18S/02-EUKs/run46/Forward/merged_f_fastqc/avg_base_q_forward.txt'\n",
    "path_to_fastQC_reverse = '/Users/Diana/Documents/escuela/phd/plugin_paper/mock_code/18S/02-EUKs/run46/Reverse/merged_r_fastqc/avg_base_q_reverse.txt'\n",
    "path_to_best_taxo = '/Users/Diana/Documents/escuela/phd/plugin_paper/mock_code/18S/all_trims/separated_taxonomies/Staggered/46F260R120.tsv'\n",
    "path_to_compare = '/Users/Diana/Documents/escuela/phd/plugin_paper/mock_code/18S/all_trims/separated_taxonomies/Staggered/46F20R0.tsv'\n",
    "path_to_merged_18s_fasta = '/Users/Diana/Documents/escuela/phd/plugin_paper/mock_code/18S/all_trims/merged.fasta'\n",
    "blast_results = '/Users/Diana/Documents/escuela/phd/plugin_paper/final_data_and_code/analyse_data/BLAST/blast_results.txt'"
   ]
  },
  {
   "cell_type": "code",
   "execution_count": 3,
   "metadata": {},
   "outputs": [],
   "source": [
    "paths_to_lvls_18s = {\n",
    "#    \"Domain\": \"\"\n",
    "  \"Phylum\": \"/Users/Diana/Documents/escuela/phd/plugin_paper/mock_code/18S/TD_metric/Bacaros_Beta/all18slvl2/all_18s_stagg_taxo.csv\",\n",
    "  \"Class\": \"/Users/Diana/Documents/escuela/phd/plugin_paper/mock_code/18S/TD_metric/Bacaros_Beta/all18slvl3/all_18s_stagg_taxo.csv\",\n",
    "  \"Order\": \"/Users/Diana/Documents/escuela/phd/plugin_paper/mock_code/18S/TD_metric/Bacaros_Beta/all18slvl4/all_18s_stagg_taxo.csv\",\n",
    "  \"Family\": \"/Users/Diana/Documents/escuela/phd/plugin_paper/mock_code/18S/TD_metric/Bacaros_Beta/all18slvl5/all_18s_stagg_taxo.csv\",\n",
    "  \"Genus\": \"/Users/Diana/Documents/escuela/phd/plugin_paper/mock_code/18S/TD_metric/Bacaros_Beta/all_18s_stagg_lvl6/all_18s_stagg_taxo.csv\",\n",
    "  \"Species\": \"/Users/Diana/Documents/escuela/phd/plugin_paper/mock_code/18S/TD_metric/Bacaros_Beta/all_18s_stagg_lvl7/all_18s_stagg_taxo.csv\"\n",
    "}"
   ]
  },
  {
   "cell_type": "code",
   "execution_count": 4,
   "metadata": {},
   "outputs": [],
   "source": [
    "paths_to_lvls_16s = {\n",
    "    \"Domain\": \"/Users/Diana/Documents/escuela/phd/plugin_paper/mock_code/16S/02-PROKs/Bacaros_Beta/results-1/all_taxonomies.csv\",\n",
    "  \"Phylum\": \"/Users/Diana/Documents/escuela/phd/plugin_paper/mock_code/16S/02-PROKs/Bacaros_Beta/results-2/all_taxonomies.csv\",\n",
    "  \"Class\": \"/Users/Diana/Documents/escuela/phd/plugin_paper/mock_code/16S/02-PROKs/Bacaros_Beta/results-3/all_taxonomies.csv\",\n",
    "  \"Order\": \"/Users/Diana/Documents/escuela/phd/plugin_paper/mock_code/16S/02-PROKs/Bacaros_Beta/results-4/all_taxonomies.csv\",\n",
    "  \"Family\": \"/Users/Diana/Documents/escuela/phd/plugin_paper/mock_code/16S/02-PROKs/Bacaros_Beta/results-5/all_taxonomies.csv\",\n",
    "  \"Genus\": \"/Users/Diana/Documents/escuela/phd/plugin_paper/mock_code/16S/02-PROKs/Bacaros_Beta/results-6/all_taxonomies.csv\",\n",
    "  \"Species\": \"/Users/Diana/Documents/escuela/phd/plugin_paper/mock_code/16S/02-PROKs/Bacaros_Beta/results-7/all_taxonomies.csv\"\n",
    "}"
   ]
  },
  {
   "cell_type": "code",
   "execution_count": 5,
   "metadata": {},
   "outputs": [],
   "source": [
    "id_keys = pd.DataFrame(np.array([['in.silico.stag_1', 'Acineta_flava_KR-10010701_Acinetidae_X_sp._strain5', 'Ciliophora; Phyllopharyngea; Suctoria'],\n",
    "                       ['in.silico.stag_81', 'Amoebophrya_sp._Amoebophrya_sp.', 'Dinophyta; Syndiniales; Dino-Group-II_a'],\n",
    "                       ['in.silico.stag_721', 'Amoebophrya_sp._Dino-Group-II-Clade-10-and-11_X_sp.', 'Dinophyta; Syndiniales; Dino-Group-II_b'],\n",
    "                       ['in.silico.stag_1041', 'Ceratium_longipes_ccmp1770_Ceratium_tenue', 'Dinophyta; Dinophyceae; Neoceratium'],\n",
    "                       ['in.silico.stag_1043', 'Chrysochromulina_simplex_partial_Chrysochromulina_X_sp.', 'Haptophyta; Prymnesiophyceae; Prymnesiales'],\n",
    "                       ['in.silico.stag_1723', 'Cryothecomonas_sp._APCC_Cryothecomonas_sp.', 'Cercozoa; Filosa-Thecofilosea; Cryomonadida'],\n",
    "                       ['in.silico.stag_2043', 'Guinardia_delicatula_Guinardia_delicatula', 'Ochrophyta; Bacillariophyta; Coscinodiscophyceae_a'],\n",
    "                       ['in.silico.stag_2523', 'Gymnodinium_sp._Dinophyceae', 'Dinophyta; Dinophyceae; Gyrodinium'],\n",
    "                       ['in.silico.stag_2803', 'Gymnodinium_sp._Gymnodinium_dorsalisulcum','Dinophyta; Dinophyceae; Gymnodinium'],\n",
    "                       ['in.silico.stag_3083', 'Larcopyle_butschlii_Larcopyle_butschlii','Radiolaria; RAD-B; Larcopyle'],\n",
    "                       ['in.silico.stag_3283', 'Leptocylindrus_convexus_SZN-B768_Radial-centric-basal-Coscinodiscophyceae_X_sp.','Ochrophyta; Bacillariophyta; Coscinodiscophyceae_b'],\n",
    "                       ['in.silico.stag_3337', 'Lingulodinium_polyedrum_Lingulodinium_polyedrum','Dinophyta; Dinophyceae; Lingulodinium'],\n",
    "                       ['in.silico.stag_3737', 'Paracalanus_parvus_Paracalanus_parvus','Metazoa; Arthropoda; Crustacea'],\n",
    "                       ['in.silico.stag_3741', 'Strombidium_cf._basimorphum_Strombidium_basimorphum','Ciliophora; Spirotrichea; Oligotrichia'],\n",
    "                       ['in.silico.stag_3781', 'Woloszynskia_cincta_Woloszynskia_cincta','Dinophyta; Dinophyceae; Dinophyceae_X'],\n",
    "                       ['in.silico.stag_3801', 'Karlodinium_micrum_clone_Dino-Group-I-Clade-5_X_sp.','Dinophyta; Syndiniales; Dino-Group-I'],\n",
    "                      ]),\n",
    "             columns=['sseqid', 'taxonomic_id', 'short_id'])"
   ]
  },
  {
   "cell_type": "code",
   "execution_count": 32,
   "metadata": {},
   "outputs": [],
   "source": [
    "def divide_by_comm(community, composition, runnumber, R='all', F='all'):\n",
    "    df = pd.read_csv('input_data/'+community+'/merged_all_tables.tsv', sep='\\t')\n",
    "    tables = df[['sample_name', 'feature_id', 'feature_frequency']].copy()\n",
    "    tables.rename(columns={'sample_name':'file'}, inplace=True)\n",
    "    manifest = pd.read_csv('input_data/MANIFEST.tsv', sep='\\t')\n",
    "    manifest['file'] = [s.split('SPOT_USC_2/')[1] for s in manifest['absolute-filepath']]\n",
    "    manifest['file'] = [s.split('.R')[0] for s in manifest['file']]\n",
    "    manifest = manifest.drop(columns = ['absolute-filepath', 'direction'])\n",
    "    manifest.drop_duplicates()\n",
    "    merged = pd.merge(tables,manifest, on='file')\n",
    "    merged = merged.drop(columns = ['file'])\n",
    "    merged = merged.drop_duplicates()\n",
    "    print('Set up manifest ...')\n",
    "    metadata = pd.read_csv('input_data/METADATA.tsv', sep='\\t')\n",
    "    merged = pd.merge(merged,metadata, on='sample-id')\n",
    "    merged = merged.replace({'V2': '16S'}, regex=True)\n",
    "\n",
    "    print('Set up metadata ...')\n",
    "    merged.to_csv('filtering_asvs.tsv', sep = '\\t')\n",
    "    print('Saved filtering_asvs.tsv')\n",
    "    \n",
    "    \n",
    "#make df of features/composition+run+comm\n",
    "    files = glob.glob('{0}*.tsv'.format('input_data/'+community+'/all_taxonomies_'+community+'/'))\n",
    "    taxos = []\n",
    "#    if not os.path.exists(path+composition):\n",
    "#        os.mkdir(path+composition)\n",
    "    for filename in files:\n",
    "        tax = pd.read_csv(filename, sep='\\t')\n",
    "        tax['table_id'] = str(filename.split('/')[-1])\n",
    "        tax[\"table_id\"] = tax[\"table_id\"].str.replace(\".tsv\", \"\")\n",
    "        tax['Forward_trim'], tax['Reverse_trim'] = tax['table_id'].str.split('R', 1).str\n",
    "        tax['Forward_trim'] = tax['Forward_trim'].map(lambda x: x.lstrip('F'))\n",
    "        tax[\"Forward_trim\"] = pd.to_numeric(tax[\"Forward_trim\"])\n",
    "        tax[\"Reverse_trim\"] = pd.to_numeric(tax[\"Reverse_trim\"])\n",
    "        taxos.append(tax)\n",
    "    print('Appended all taxonomies to taxos')\n",
    "    taxos = pd.concat(taxos)\n",
    "    taxos = taxos.rename(columns={\"Feature ID\": \"feature_id\"}, errors=\"raise\")\n",
    "    separated = taxos.merge(merged, how='left', on='feature_id')\n",
    "    separated = separated.drop_duplicates()\n",
    "    separated = separated[separated[\"community\"] == community]\n",
    "    separated = separated[separated[\"composition\"] == composition]\n",
    "    separated['run-number']= separated['run-number'].astype(str)\n",
    "    separated = separated[separated[\"run-number\"] == runnumber]\n",
    "    separated['sum'] = separated.groupby(['table_id','sample-id'])['feature_frequency'].transform('sum')\n",
    "    separated['ratio'] = separated['feature_frequency']/(separated['sum'])\n",
    "    #make a dictionary with keys for id-ing the taxon belonging to this sub-community\n",
    "    separated_dic = pd.Series(separated.Taxon.values,separated.feature_id.values).to_dict()\n",
    "\n",
    "#generate folder of split taxonomies by runnumber and composition\n",
    "    # Directory\n",
    "    directory = composition+runnumber\n",
    "    # Parent Directory path\n",
    "    parent_dir = 'input_data/'+community+'/all_taxonomies_'+community\n",
    "    # Path\n",
    "    path = os.path.join(parent_dir, directory)\n",
    "    # Create the directory\n",
    "    # 'GeeksForGeeks' in\n",
    "    # '/home / User / Documents'\n",
    "    os.mkdir(path)\n",
    "    for filename in files:\n",
    "        taxonomy = pd.read_csv(filename, sep='\\t')\n",
    "        taxonomy = taxonomy.rename(columns={\"Feature ID\": \"feature_id\"}, errors=\"raise\")\n",
    "        newz = taxonomy.merge(merged, how='left', on='feature_id')\n",
    "        #new = newz.drop(['sample-id'], axis=1)\n",
    "        new = newz.drop_duplicates()\n",
    "        new = new[new[\"community\"] == community]\n",
    "        new = new[new[\"composition\"] == composition]\n",
    "        new['run-number']= new['run-number'].astype(str)\n",
    "        new = new[new[\"run-number\"] == runnumber]\n",
    "        new = new[new.feature_frequency != 0]\n",
    "        new = new.rename(columns={\"feature_id\":\"Feature ID\"}, errors=\"raise\")\n",
    "        new = new[['Feature ID', 'Taxon', 'Confidence']].copy()\n",
    "        new = new.drop_duplicates()\n",
    "        new.to_csv(filename.split('all_taxonomies_'+community)[0]+'all_taxonomies_'+community+'/'+composition+runnumber+'/'+runnumber+filename.split('all_taxonomies_'+community+'/')[1], sep = '\\t') \n",
    "    \n",
    "    # Get list of all .qza\n",
    "    repseqs = glob.glob('{0}*/*/representative_sequences.qza'.format('/Users/Diana/Documents/escuela/phd/plugin_paper/mock_code/18S/all_trims/'), recursive=True)\n",
    "    for repseq in repseqs:\n",
    "        with ZipFile(repseq, 'r') as zipObj:\n",
    "            # Get a list of all archived file names from the zip\n",
    "            listOfFileNames = zipObj.namelist()\n",
    "            # Iterate over the file names\n",
    "            for fileName in listOfFileNames:\n",
    "                # Check filename endswith fasta\n",
    "                if fileName.endswith('.fasta'):\n",
    "                    # Extract a single file from zip\n",
    "                    zipObj.extract(fileName, 'temp_fasta')\n",
    "                    \n",
    "    fastaoutfilename = 'merged'+community+composition+runnumber+R+F+'.fasta'\n",
    "    \n",
    "    with open(fastaoutfilename, 'wb') as outfile:\n",
    "        for filename in glob.glob('temp_fasta/*/*/*.fasta'):\n",
    "            if filename == fastaoutfilename:\n",
    "                # don't want to copy the output into the output\n",
    "                continue\n",
    "            with open(filename, 'rb') as readfile:\n",
    "                shutil.copyfileobj(readfile, outfile)\n",
    "    shutil.rmtree('temp_fasta', ignore_errors=False, onerror=None)\n",
    "    \n",
    "\n",
    "    if R!='all':\n",
    "        rallfs = separated[separated.Reverse_trim == R]\n",
    "        separated_dic = pd.Series(rallfs.Taxon.values,rallfs.feature_id.values).to_dict()\n",
    "    else:\n",
    "        separated_dic = pd.Series(separated.Taxon.values, separated.feature_id.values).to_dict()\n",
    "    if F!='all':\n",
    "        fallrs = separated[separated.Forward_trim == F]\n",
    "        separated_dic = pd.Series(fallrs.Taxon.values,fallrs.feature_id.values).to_dict()\n",
    "    else:\n",
    "        separated_dic = pd.Series(separated.Taxon.values, separated.feature_id.values).to_dict()\n",
    "\n",
    "    fa = SeqIO.parse('input_data/'+community+'/'+fastaoutfilename,\n",
    "                 \"fasta\")\n",
    "    seqs_i_want = [] #we'll put the good sequences here\n",
    "    for record in fa: #a SeqRecord has the accession as record.id, usually.\n",
    "        if record.id in separated_dic.keys(): #This is how you check if the accession is in the values of the dict\n",
    "            seqs_i_want.append(record)\n",
    "    #Now we can write the list of records to a fasta file. This will take care of the formatting etc\n",
    "    with open('input_data/'+community+composition+runnumber+R+F+'.fasta', \"w\") as f:\n",
    "        SeqIO.write(seqs_i_want, f, \"fasta\")\n",
    "    return print('Saved selected sequences as' 'input_data/'+community+'/'+runnumber+composition+'R'+R+'F'+F+'.fasta')\n",
    "    return (files, separated, separated_dic, merged)"
   ]
  },
  {
   "cell_type": "code",
   "execution_count": 34,
   "metadata": {
    "scrolled": true
   },
   "outputs": [
    {
     "name": "stdout",
     "output_type": "stream",
     "text": [
      "Set up manifest ...\n",
      "Set up metadata ...\n",
      "Saved filtering_asvs.tsv\n"
     ]
    },
    {
     "name": "stderr",
     "output_type": "stream",
     "text": [
      "/var/folders/kv/yq6jygk116l27q2bwnk25k0w0000gn/T/ipykernel_95831/3769239956.py:31: FutureWarning: The default value of regex will change from True to False in a future version.\n",
      "  tax[\"table_id\"] = tax[\"table_id\"].str.replace(\".tsv\", \"\")\n",
      "/var/folders/kv/yq6jygk116l27q2bwnk25k0w0000gn/T/ipykernel_95831/3769239956.py:32: FutureWarning: Columnar iteration over characters will be deprecated in future releases.\n",
      "  tax['Forward_trim'], tax['Reverse_trim'] = tax['table_id'].str.split('R', 1).str\n"
     ]
    },
    {
     "name": "stdout",
     "output_type": "stream",
     "text": [
      "Appended all taxonomies to taxos\n"
     ]
    },
    {
     "ename": "FileNotFoundError",
     "evalue": "[Errno 2] No such file or directory: 'input_data/16S/merged.fasta'",
     "output_type": "error",
     "traceback": [
      "\u001b[0;31m---------------------------------------------------------------------------\u001b[0m",
      "\u001b[0;31mFileNotFoundError\u001b[0m                         Traceback (most recent call last)",
      "Input \u001b[0;32mIn [34]\u001b[0m, in \u001b[0;36m<cell line: 1>\u001b[0;34m()\u001b[0m\n\u001b[0;32m----> 1\u001b[0m files, separated, separated_dic, merged \u001b[38;5;241m=\u001b[39m \u001b[43mdivide_by_comm\u001b[49m\u001b[43m(\u001b[49m\u001b[38;5;124;43m'\u001b[39;49m\u001b[38;5;124;43m16S\u001b[39;49m\u001b[38;5;124;43m'\u001b[39;49m\u001b[43m,\u001b[49m\u001b[43m \u001b[49m\u001b[38;5;124;43m'\u001b[39;49m\u001b[38;5;124;43mStaggered\u001b[39;49m\u001b[38;5;124;43m'\u001b[39;49m\u001b[43m,\u001b[49m\u001b[43m \u001b[49m\u001b[38;5;124;43m'\u001b[39;49m\u001b[38;5;124;43m46\u001b[39;49m\u001b[38;5;124;43m'\u001b[39;49m\u001b[43m)\u001b[49m\n",
      "Input \u001b[0;32mIn [32]\u001b[0m, in \u001b[0;36mdivide_by_comm\u001b[0;34m(community, composition, runnumber, R, F)\u001b[0m\n\u001b[1;32m     86\u001b[0m \u001b[38;5;28;01melse\u001b[39;00m:\n\u001b[1;32m     87\u001b[0m     separated_dic \u001b[38;5;241m=\u001b[39m pd\u001b[38;5;241m.\u001b[39mSeries(separated\u001b[38;5;241m.\u001b[39mTaxon\u001b[38;5;241m.\u001b[39mvalues, separated\u001b[38;5;241m.\u001b[39mfeature_id\u001b[38;5;241m.\u001b[39mvalues)\u001b[38;5;241m.\u001b[39mto_dict()\n\u001b[0;32m---> 89\u001b[0m fa \u001b[38;5;241m=\u001b[39m \u001b[43mSeqIO\u001b[49m\u001b[38;5;241;43m.\u001b[39;49m\u001b[43mparse\u001b[49m\u001b[43m(\u001b[49m\u001b[38;5;124;43m'\u001b[39;49m\u001b[38;5;124;43minput_data/\u001b[39;49m\u001b[38;5;124;43m'\u001b[39;49m\u001b[38;5;241;43m+\u001b[39;49m\u001b[43mcommunity\u001b[49m\u001b[38;5;241;43m+\u001b[39;49m\u001b[38;5;124;43m'\u001b[39;49m\u001b[38;5;124;43m/merged.fasta\u001b[39;49m\u001b[38;5;124;43m'\u001b[39;49m\u001b[43m,\u001b[49m\n\u001b[1;32m     90\u001b[0m \u001b[43m             \u001b[49m\u001b[38;5;124;43m\"\u001b[39;49m\u001b[38;5;124;43mfasta\u001b[39;49m\u001b[38;5;124;43m\"\u001b[39;49m\u001b[43m)\u001b[49m\n\u001b[1;32m     91\u001b[0m seqs_i_want \u001b[38;5;241m=\u001b[39m [] \u001b[38;5;66;03m#we'll put the good sequences here\u001b[39;00m\n\u001b[1;32m     92\u001b[0m \u001b[38;5;28;01mfor\u001b[39;00m record \u001b[38;5;129;01min\u001b[39;00m fa: \u001b[38;5;66;03m#a SeqRecord has the accession as record.id, usually.\u001b[39;00m\n",
      "File \u001b[0;32m~/miniconda3/envs/pluginanalysis/lib/python3.9/site-packages/Bio/SeqIO/__init__.py:605\u001b[0m, in \u001b[0;36mparse\u001b[0;34m(handle, format, alphabet)\u001b[0m\n\u001b[1;32m    603\u001b[0m iterator_generator \u001b[38;5;241m=\u001b[39m _FormatToIterator\u001b[38;5;241m.\u001b[39mget(\u001b[38;5;28mformat\u001b[39m)\n\u001b[1;32m    604\u001b[0m \u001b[38;5;28;01mif\u001b[39;00m iterator_generator:\n\u001b[0;32m--> 605\u001b[0m     \u001b[38;5;28;01mreturn\u001b[39;00m \u001b[43miterator_generator\u001b[49m\u001b[43m(\u001b[49m\u001b[43mhandle\u001b[49m\u001b[43m)\u001b[49m\n\u001b[1;32m    606\u001b[0m \u001b[38;5;28;01mif\u001b[39;00m \u001b[38;5;28mformat\u001b[39m \u001b[38;5;129;01min\u001b[39;00m AlignIO\u001b[38;5;241m.\u001b[39m_FormatToIterator:\n\u001b[1;32m    607\u001b[0m     \u001b[38;5;66;03m# Use Bio.AlignIO to read in the alignments\u001b[39;00m\n\u001b[1;32m    608\u001b[0m     \u001b[38;5;28;01mreturn\u001b[39;00m (r \u001b[38;5;28;01mfor\u001b[39;00m alignment \u001b[38;5;129;01min\u001b[39;00m AlignIO\u001b[38;5;241m.\u001b[39mparse(handle, \u001b[38;5;28mformat\u001b[39m) \u001b[38;5;28;01mfor\u001b[39;00m r \u001b[38;5;129;01min\u001b[39;00m alignment)\n",
      "File \u001b[0;32m~/miniconda3/envs/pluginanalysis/lib/python3.9/site-packages/Bio/SeqIO/FastaIO.py:183\u001b[0m, in \u001b[0;36mFastaIterator.__init__\u001b[0;34m(self, source, alphabet, title2ids)\u001b[0m\n\u001b[1;32m    181\u001b[0m     \u001b[38;5;28;01mraise\u001b[39;00m \u001b[38;5;167;01mValueError\u001b[39;00m(\u001b[38;5;124m\"\u001b[39m\u001b[38;5;124mThe alphabet argument is no longer supported\u001b[39m\u001b[38;5;124m\"\u001b[39m)\n\u001b[1;32m    182\u001b[0m \u001b[38;5;28mself\u001b[39m\u001b[38;5;241m.\u001b[39mtitle2ids \u001b[38;5;241m=\u001b[39m title2ids\n\u001b[0;32m--> 183\u001b[0m \u001b[38;5;28;43msuper\u001b[39;49m\u001b[43m(\u001b[49m\u001b[43m)\u001b[49m\u001b[38;5;241;43m.\u001b[39;49m\u001b[38;5;21;43m__init__\u001b[39;49m\u001b[43m(\u001b[49m\u001b[43msource\u001b[49m\u001b[43m,\u001b[49m\u001b[43m \u001b[49m\u001b[43mmode\u001b[49m\u001b[38;5;241;43m=\u001b[39;49m\u001b[38;5;124;43m\"\u001b[39;49m\u001b[38;5;124;43mt\u001b[39;49m\u001b[38;5;124;43m\"\u001b[39;49m\u001b[43m,\u001b[49m\u001b[43m \u001b[49m\u001b[43mfmt\u001b[49m\u001b[38;5;241;43m=\u001b[39;49m\u001b[38;5;124;43m\"\u001b[39;49m\u001b[38;5;124;43mFasta\u001b[39;49m\u001b[38;5;124;43m\"\u001b[39;49m\u001b[43m)\u001b[49m\n",
      "File \u001b[0;32m~/miniconda3/envs/pluginanalysis/lib/python3.9/site-packages/Bio/SeqIO/Interfaces.py:48\u001b[0m, in \u001b[0;36mSequenceIterator.__init__\u001b[0;34m(self, source, alphabet, mode, fmt)\u001b[0m\n\u001b[1;32m     46\u001b[0m     \u001b[38;5;28;01mraise\u001b[39;00m \u001b[38;5;167;01mValueError\u001b[39;00m(\u001b[38;5;124m\"\u001b[39m\u001b[38;5;124mThe alphabet argument is no longer supported\u001b[39m\u001b[38;5;124m\"\u001b[39m)\n\u001b[1;32m     47\u001b[0m \u001b[38;5;28;01mtry\u001b[39;00m:\n\u001b[0;32m---> 48\u001b[0m     \u001b[38;5;28mself\u001b[39m\u001b[38;5;241m.\u001b[39mstream \u001b[38;5;241m=\u001b[39m \u001b[38;5;28;43mopen\u001b[39;49m\u001b[43m(\u001b[49m\u001b[43msource\u001b[49m\u001b[43m,\u001b[49m\u001b[43m \u001b[49m\u001b[38;5;124;43m\"\u001b[39;49m\u001b[38;5;124;43mr\u001b[39;49m\u001b[38;5;124;43m\"\u001b[39;49m\u001b[43m \u001b[49m\u001b[38;5;241;43m+\u001b[39;49m\u001b[43m \u001b[49m\u001b[43mmode\u001b[49m\u001b[43m)\u001b[49m\n\u001b[1;32m     49\u001b[0m     \u001b[38;5;28mself\u001b[39m\u001b[38;5;241m.\u001b[39mshould_close_stream \u001b[38;5;241m=\u001b[39m \u001b[38;5;28;01mTrue\u001b[39;00m\n\u001b[1;32m     50\u001b[0m \u001b[38;5;28;01mexcept\u001b[39;00m \u001b[38;5;167;01mTypeError\u001b[39;00m:  \u001b[38;5;66;03m# not a path, assume we received a stream\u001b[39;00m\n",
      "\u001b[0;31mFileNotFoundError\u001b[0m: [Errno 2] No such file or directory: 'input_data/16S/merged.fasta'"
     ]
    }
   ],
   "source": [
    "files, separated, separated_dic, merged = divide_by_comm('16S', 'Staggered', '46')"
   ]
  },
  {
   "cell_type": "code",
   "execution_count": null,
   "metadata": {},
   "outputs": [],
   "source": []
  },
  {
   "cell_type": "code",
   "execution_count": null,
   "metadata": {},
   "outputs": [],
   "source": []
  },
  {
   "cell_type": "code",
   "execution_count": null,
   "metadata": {},
   "outputs": [],
   "source": []
  },
  {
   "cell_type": "code",
   "execution_count": null,
   "metadata": {},
   "outputs": [],
   "source": []
  },
  {
   "cell_type": "code",
   "execution_count": null,
   "metadata": {},
   "outputs": [],
   "source": []
  },
  {
   "cell_type": "code",
   "execution_count": null,
   "metadata": {},
   "outputs": [],
   "source": []
  },
  {
   "cell_type": "code",
   "execution_count": null,
   "metadata": {},
   "outputs": [],
   "source": []
  },
  {
   "cell_type": "code",
   "execution_count": null,
   "metadata": {},
   "outputs": [],
   "source": []
  },
  {
   "cell_type": "code",
   "execution_count": null,
   "metadata": {},
   "outputs": [],
   "source": []
  },
  {
   "cell_type": "code",
   "execution_count": null,
   "metadata": {},
   "outputs": [],
   "source": []
  },
  {
   "cell_type": "code",
   "execution_count": null,
   "metadata": {},
   "outputs": [],
   "source": []
  },
  {
   "cell_type": "code",
   "execution_count": null,
   "metadata": {},
   "outputs": [],
   "source": []
  },
  {
   "cell_type": "code",
   "execution_count": null,
   "metadata": {},
   "outputs": [],
   "source": []
  },
  {
   "cell_type": "code",
   "execution_count": null,
   "metadata": {},
   "outputs": [],
   "source": []
  },
  {
   "cell_type": "code",
   "execution_count": null,
   "metadata": {},
   "outputs": [],
   "source": []
  },
  {
   "cell_type": "code",
   "execution_count": null,
   "metadata": {},
   "outputs": [],
   "source": []
  },
  {
   "cell_type": "code",
   "execution_count": null,
   "metadata": {},
   "outputs": [],
   "source": []
  },
  {
   "cell_type": "code",
   "execution_count": null,
   "metadata": {},
   "outputs": [],
   "source": []
  },
  {
   "cell_type": "code",
   "execution_count": null,
   "metadata": {},
   "outputs": [],
   "source": []
  },
  {
   "cell_type": "code",
   "execution_count": null,
   "metadata": {},
   "outputs": [],
   "source": []
  },
  {
   "cell_type": "code",
   "execution_count": null,
   "metadata": {},
   "outputs": [],
   "source": []
  },
  {
   "cell_type": "code",
   "execution_count": null,
   "metadata": {},
   "outputs": [],
   "source": []
  },
  {
   "cell_type": "code",
   "execution_count": null,
   "metadata": {},
   "outputs": [],
   "source": []
  }
 ],
 "metadata": {
  "kernelspec": {
   "display_name": "pluginanalysis",
   "language": "python",
   "name": "pluginanalysis"
  },
  "language_info": {
   "codemirror_mode": {
    "name": "ipython",
    "version": 3
   },
   "file_extension": ".py",
   "mimetype": "text/x-python",
   "name": "python",
   "nbconvert_exporter": "python",
   "pygments_lexer": "ipython3",
   "version": "3.9.7"
  }
 },
 "nbformat": 4,
 "nbformat_minor": 4
}
