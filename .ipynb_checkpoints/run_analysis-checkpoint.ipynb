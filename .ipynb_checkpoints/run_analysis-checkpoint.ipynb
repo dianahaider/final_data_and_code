{
 "cells": [
  {
   "cell_type": "markdown",
   "metadata": {},
   "source": [
    "# Analysis of varying trimming thresholds of microbial communities of known composition"
   ]
  },
  {
   "cell_type": "markdown",
   "metadata": {},
   "source": [
    "Script for the analysis and figure generation for 515F/926R 16S and 18S mock communities"
   ]
  },
  {
   "cell_type": "code",
   "execution_count": 1,
   "metadata": {},
   "outputs": [],
   "source": [
    "#Import libraries in python3 kernel\n",
    "import pandas as pd\n",
    "import seaborn as sns\n",
    "import glob\n",
    "import os\n",
    "import sys\n",
    "from pathlib import Path\n",
    "#!conda install --yes --prefix {sys.prefix} boto\n",
    "import boto\n",
    "import shutil\n",
    "#!conda install --yes --prefix {sys.prefix} tqdm\n",
    "from tqdm.notebook import trange, tqdm\n",
    "import matplotlib.pyplot as plt\n",
    "import matplotlib.colors as colors\n",
    "from matplotlib.colors import LogNorm\n",
    "import numpy as np\n",
    "import skbio\n",
    "#import fastcluster #this package makes skbio run faster clustermaps but can be tricky with missing values from pairwise comparisons\n",
    "from functools import reduce\n",
    "#!conda install --yes --prefix {sys.prefix} biopython\n",
    "from Bio import SeqIO\n",
    "from Bio.SeqIO.FastaIO import SimpleFastaParser\n",
    "from Bio.SeqUtils import GC\n",
    "from biom import load_table\n",
    "from biom.table import Table\n",
    "from collections import defaultdict\n",
    "from collections import Counter\n",
    "import statistics\n",
    "import itertools as it\n",
    "from scipy import stats\n",
    "from matplotlib.ticker import FormatStrFormatter\n",
    "from qiime2 import Artifact\n",
    "import tempfile\n",
    "import zipfile\n",
    "import yaml\n",
    "#!conda install --yes --prefix {sys.prefix} -c etetoolkit ete3 \n",
    "#!conda install -c bioconda seqkit\n",
    "#pip install ete3\n",
    "#conda install -c anaconda pyqt\n",
    "#from ete3 import Tree, TreeStyle\n",
    "%matplotlib inline\n",
    "\n",
    "#Import libraries\n",
    "from matplotlib_venn import venn2, venn2_circles, venn2_unweighted\n",
    "from matplotlib_venn import venn3, venn3_circles\n",
    "from matplotlib import pyplot as plt"
   ]
  },
  {
   "cell_type": "markdown",
   "metadata": {},
   "source": [
    "## Load functions"
   ]
  },
  {
   "cell_type": "markdown",
   "metadata": {},
   "source": [
    "__consolidate_tables__ creates a dataframe of all the merged generated feature tables and the parameters used in the pipeline to generate them"
   ]
  },
  {
   "cell_type": "code",
   "execution_count": 4,
   "metadata": {},
   "outputs": [],
   "source": [
    "# Special thanks to Alex Manuele https://github.com/alexmanuele\n",
    "def consolidate_tables(community):\n",
    "    if community == \"16S\":\n",
    "        comm_id, comm = '16S', '02-PROKs'\n",
    "        table_list = glob.glob('{0}/*/03-DADA2d/table.qza'.format(comm+'/intermediate_files/all_trims/'))\n",
    "        print(\"Found all 16S tables\")\n",
    "    if community == \"18S\":\n",
    "        comm_id, comm = '18S','02-EUKs'\n",
    "        table_list = glob.glob('{0}/*/08-DADA2/table.qza'.format(comm+'/intermediate_files/all_trims/'))\n",
    "        print(\"Found all tables\")\n",
    "\n",
    "    dataframes = []  \n",
    "    for table_path in table_list:\n",
    "        with tempfile.TemporaryDirectory() as tempdir:\n",
    "            #load table, dump contents to tempdir\n",
    "            table = Artifact.load(table_path)\n",
    "            #Make sure the tables are all FeatureFrequency type\n",
    "            assert str(table.type) == 'FeatureTable[Frequency]', \"{0}: Expected FeatureTable[Frequency], got {1}\".format(table_path, table.type)\n",
    "            Artifact.extract(table_path, tempdir)\n",
    "            #get the provenance form the tempdir and format it for DF\n",
    "            prov = '{0}/{1}/provenance/'.format(tempdir, table.uuid)\n",
    "            action = yaml.load(open(\"{0}action/action.yaml\".format(prov), 'r'), Loader=yaml.BaseLoader)\n",
    "            paramlist = action['action']['parameters']\n",
    "            paramlist.append({'table_uuid': \"{}\".format(table.uuid)})\n",
    "            paramdict = {}\n",
    "            for record in paramlist:\n",
    "                paramdict.update(record)\n",
    "\n",
    "            # Get the data into a dataframe\n",
    "              #Biom data\n",
    "            df = table.view(pd.DataFrame).unstack().reset_index()\n",
    "            df.columns = ['feature_id', 'sample_name', 'feature_frequency']\n",
    "            df['table_uuid'] = [\"{}\".format(table.uuid)] * df.shape[0]\n",
    "              #param data\n",
    "            pdf = pd.DataFrame.from_records([paramdict])\n",
    "              #merge params into main df\n",
    "            df = df.merge(pdf, on='table_uuid')\n",
    "\n",
    "\n",
    "            #I like having these columns as the last three. Makes it more readable\n",
    "            cols = df.columns.tolist()\n",
    "            reorder = ['sample_name', 'feature_id', 'feature_frequency']\n",
    "            for val in reorder:\n",
    "                cols.append(cols.pop(cols.index(val)))\n",
    "            df = df[cols]\n",
    "            df['table_path'] = [table_path] * df.shape[0]\n",
    "            dataframes.append(df)\n",
    "\n",
    "    #Stick all the dataframes together\n",
    "    #outputfile=\"merged_all_tables.tsv\"\n",
    "    df = pd.concat(dataframes)\n",
    "    #df.to_csv(comm+'/merged_all_tables.tsv', sep='\\t', index=False)\n",
    "    print(\"Successfully saved all tables.\")\n",
    "    return df, comm, comm_id"
   ]
  },
  {
   "cell_type": "markdown",
   "metadata": {},
   "source": [
    "__merge_metadata__ adds the metadata to the merged feature tables"
   ]
  },
  {
   "cell_type": "code",
   "execution_count": 5,
   "metadata": {},
   "outputs": [],
   "source": [
    "def merge_metadata():\n",
    "    #df = pd.read_csv('02-PROKs/'+'/merged_all_tables.tsv', sep='\\t')\n",
    "\n",
    "    tables = df[['sample_name', 'feature_id', 'feature_frequency']].copy()\n",
    "    tables.rename(columns={'sample_name':'file'}, inplace=True)\n",
    "    manifest = pd.read_csv('MANIFEST.tsv', sep='\\t')\n",
    "    manifest['file'] = [s.split('SPOT_USC_2/')[1] for s in manifest['absolute-filepath']]\n",
    "    manifest['file'] = [s.split('.R')[0] for s in manifest['file']]\n",
    "    manifest = manifest.drop(columns = ['absolute-filepath', 'direction'])\n",
    "    manifest.drop_duplicates()\n",
    "    merged = pd.merge(tables,manifest, on='file')\n",
    "    merged = merged.drop(columns = ['file'])\n",
    "    merged = merged.drop_duplicates() \n",
    "    print('Set up manifest ...')\n",
    "    \n",
    "    metadata = pd.read_csv('METADATA.tsv', sep='\\t')\n",
    "    merged = pd.merge(merged,metadata, on='sample-id')\n",
    "    merged = merged.replace({'V2': '16S'}, regex=True)\n",
    "    print('Set up metadata ...')\n",
    "    \n",
    "    #merged.to_csv(comm+'/merged_asvs_metadata.tsv', sep = '\\t')\n",
    "    print('Saved merged_asvs_metadata.tsv')\n",
    "    \n",
    "    return merged"
   ]
  },
  {
   "cell_type": "markdown",
   "metadata": {},
   "source": [
    "__rename_move_taxonomy__ rename taxonomy"
   ]
  },
  {
   "cell_type": "code",
   "execution_count": 6,
   "metadata": {},
   "outputs": [],
   "source": [
    "def rename_move_all_taxonomies(comm):\n",
    "    dr = comm+'/intermediate_files/all_trims'\n",
    "    if not os.path.isdir(dr):\n",
    "        for root, dirs, files in os.walk(dr): #rename all taxonomy.tsv by their trimlengths\n",
    "            for file in files:\n",
    "                if file == \"taxonomy.tsv\":\n",
    "                    spl = root.split(\"/\"); newname = spl[-6]; sup = (\"/\").join(spl[:-6])\n",
    "                    shutil.copy(root+\"/\"+file, sup+\"/\"+newname+\".tsv\");# shutil.rmtree(root)\n",
    "        files = glob.glob('{0}F*R*.tsv'.format(dr))\n",
    "        os.mkdir(dr)\n",
    "        for file in files:\n",
    "            shutil.move(file, dr) #puts all tsvs in new directory with correct names\n",
    "    print('Renamed all taxonomies.')"
   ]
  },
  {
   "cell_type": "markdown",
   "metadata": {},
   "source": [
    "__pick_metadata__ extracts the features according to the given metadata parameters"
   ]
  },
  {
   "cell_type": "code",
   "execution_count": 7,
   "metadata": {},
   "outputs": [],
   "source": [
    "def pick_metadata(comm, comm_id, composition, runnumber, R='all', F='all'):\n",
    "#make df of features/composition+run+comm\n",
    "\n",
    "    composition = composition\n",
    "    runnumber = runnumber\n",
    "    R = R\n",
    "    F = F\n",
    "\n",
    "    files = glob.glob('{0}*.tsv'.format(comm+'/intermediate_files/all_taxonomies/'))\n",
    "    taxos = []\n",
    "#    if not os.path.exists(path+composition):\n",
    "#        os.mkdir(path+composition)\n",
    "    for filename in files:\n",
    "        tax = pd.read_csv(filename, sep='\\t')\n",
    "        tax['table_id'] = str(filename.split('/')[-1])\n",
    "        tax[\"table_id\"] = tax[\"table_id\"].str.replace(\".tsv\", \"\")\n",
    "        tax['Forward_trim'], tax['Reverse_trim'] = tax['table_id'].str.split('R', 1).str\n",
    "        tax['Forward_trim'] = tax['Forward_trim'].map(lambda x: x.lstrip('F'))\n",
    "        tax[\"Forward_trim\"] = pd.to_numeric(tax[\"Forward_trim\"])\n",
    "        tax[\"Reverse_trim\"] = pd.to_numeric(tax[\"Reverse_trim\"])\n",
    "        taxos.append(tax)\n",
    "    print('Appended all taxonomies to taxos')\n",
    "    taxos = pd.concat(taxos)\n",
    "    taxos = taxos.rename(columns={\"Feature ID\": \"feature_id\"}, errors=\"raise\")\n",
    "    #taxos.to_csv(comm+'/taxos.tsv', sep = '\\t')\n",
    "    separated = merged.merge(taxos, how='left', on='feature_id')\n",
    "    separated = separated.drop_duplicates()\n",
    "    separated = separated[separated[\"community\"] == comm_id]\n",
    "    separated = separated[separated[\"composition\"] == composition]\n",
    "    separated['run-number']= separated['run-number'].astype(str)\n",
    "    separated = separated[separated[\"run-number\"] == runnumber]\n",
    "    separated['total'] = separated.groupby(['table_id','sample-id'])['feature_frequency'].transform('sum')\n",
    "    separated['ratio'] = separated['feature_frequency']/(separated['total'])\n",
    "    separated_taxonomies = separated.copy()\n",
    "    #make a dictionary with keys for id-ing the taxon belonging to this sub-community\n",
    "    separated_dic = pd.Series(separated.Taxon.values,separated.feature_id.values).to_dict()\n",
    "    print('Saved separated by metadata dataframe.')\n",
    "    \n",
    "    return composition, runnumber, R, F, separated, files"
   ]
  },
  {
   "cell_type": "markdown",
   "metadata": {},
   "source": [
    "__rename_taxonomies__ extracts zipped classification files from qiime2, renames them by the trimming length used, and moves them to a new folder"
   ]
  },
  {
   "cell_type": "code",
   "execution_count": 8,
   "metadata": {},
   "outputs": [],
   "source": [
    "def pick_taxonomies(comm, comm_id,  composition, runnumber, files):\n",
    "#generate folder of split taxonomies by runnumber and composition\n",
    "    # Directory\n",
    "    directory = composition+runnumber\n",
    "    # Parent Directory path\n",
    "    parent_dir = comm+'/intermediate_files/all_taxonomies'\n",
    "    # Path\n",
    "    path = os.path.join(parent_dir, directory)\n",
    "    # Create the directory\n",
    "    # 'GeeksForGeeks' in\n",
    "    # '/home / User / Documents'\n",
    "    if not os.path.isdir(parent_dir+'/'+directory): \n",
    "        os.mkdir(path)\n",
    "        for filename in files:\n",
    "            taxonomy = pd.read_csv(filename, sep='\\t')\n",
    "            taxonomy = taxonomy.rename(columns={\"Feature ID\": \"feature_id\"}, errors=\"raise\")\n",
    "            newz = taxonomy.merge(merged, how='left', on='feature_id')\n",
    "            #new = newz.drop(['sample-id'], axis=1)\n",
    "            new = newz.drop_duplicates()\n",
    "            new = new[new[\"community\"] == comm_id]\n",
    "            new = new[new[\"composition\"] == composition]\n",
    "            new['run-number']= new['run-number'].astype(str)\n",
    "            new = new[new[\"run-number\"] == runnumber]\n",
    "            new = new[new.feature_frequency != 0]\n",
    "            new = new.rename(columns={\"feature_id\":\"Feature ID\"}, errors=\"raise\")\n",
    "            new = new[['Feature ID', 'Taxon', 'Confidence']].copy()\n",
    "            new = new.drop_duplicates()\n",
    "            new = new.set_index('Feature ID')\n",
    "            d = 'all_taxonomies/'\n",
    "            if new.empty:\n",
    "                print('DataFrame from '+ filename +' is empty!')\n",
    "            else:\n",
    "                new.to_csv(filename.split(d)[0]+d+composition+runnumber+'/'+runnumber+filename.split(d)[1], sep = '\\t')\n",
    "           \n",
    "            print('Split taxonomies')\n",
    "    else:\n",
    "        print(\"Taxonomies already split\")\n",
    "    \n",
    "    return"
   ]
  },
  {
   "cell_type": "markdown",
   "metadata": {},
   "source": [
    "__make_fasta__ extracts sequences from zipped qiime2 files, and makes new fasta file for the features from the given metadata parameters"
   ]
  },
  {
   "cell_type": "code",
   "execution_count": 8,
   "metadata": {},
   "outputs": [],
   "source": [
    "def make_fasta(comm, R, F, composition, runnumber):\n",
    "    \n",
    "    fastaoutfilename = comm+'/intermediate_files/all_seqs/allfasta.fasta'\n",
    "    \n",
    "    if not os.path.isfile(fastaoutfilename):\n",
    "        os.mkdir(comm+'/intermediate_files/all_seqs')\n",
    "        # Get list of all .qza\n",
    "        repseqs = glob.glob('{0}/*/*/representative_sequences.qza'.format(comm+'/intermediate_files/all_trims'), recursive=True)\n",
    "        #for i in tqdm\n",
    "        for repseq in repseqs:\n",
    "            with zipfile.ZipFile(repseq, 'r') as zipObj:\n",
    "                # Get a list of all archived file names from the zip\n",
    "                listOfFileNames = zipObj.namelist()\n",
    "                # Iterate over the file names\n",
    "                for fileName in listOfFileNames:\n",
    "                    # Check filename endswith fasta\n",
    "                    if fileName.endswith('.fasta'):\n",
    "                        # Extract a single file from zip\n",
    "                        zipObj.extract(fileName, 'temp_fasta')\n",
    "                        \n",
    "    \n",
    "        with open(fastaoutfilename, 'wb') as outfile:\n",
    "            for filename in glob.glob('temp_fasta/*/*/*.fasta'):\n",
    "                if filename == fastaoutfilename:\n",
    "                    # don't want to copy the output into the output\n",
    "                    continue\n",
    "                with open(filename, 'rb') as readfile:\n",
    "                    shutil.copyfileobj(readfile, outfile)\n",
    "        shutil.rmtree('temp_fasta', ignore_errors=False, onerror=None)\n",
    "    \n",
    "\n",
    "    if R!='all':\n",
    "        rallfs = separated[separated.Reverse_trim == R]\n",
    "        separated_dic = pd.Series(rallfs.Taxon.values,rallfs.feature_id.values).to_dict()\n",
    "    else:\n",
    "        separated_dic = pd.Series(separated.Taxon.values, separated.feature_id.values).to_dict()\n",
    "    if F!='all':\n",
    "        fallrs = separated[separated.Forward_trim == F]\n",
    "        separated_dic = pd.Series(fallrs.Taxon.values,fallrs.feature_id.values).to_dict()\n",
    "    else:\n",
    "        separated_dic = pd.Series(separated.Taxon.values, separated.feature_id.values).to_dict()\n",
    "\n",
    "    fa = SeqIO.parse(comm+'/intermediate_files/all_seqs/allfasta.fasta',\n",
    "                 \"fasta\")\n",
    "    seqs_i_want = [] #we'll put the good sequences here\n",
    "    for record in fa: #a SeqRecord has the accession as record.id, usually.\n",
    "        if record.id in separated_dic.keys(): #This is how you check if the accession is in the values of the dict\n",
    "            seqs_i_want.append(record)\n",
    "    #Now we can write the list of records to a fasta file. This will take care of the formatting etc\n",
    "    with open(comm+'/intermediate_files/all_seqs/R'+R+'F'+F+runnumber+composition+'.fasta', \"w\") as f:\n",
    "        SeqIO.write(seqs_i_want, f, \"fasta\")\n",
    "        \n",
    "    \n",
    "    \n",
    "    return print('Saved selected sequences as '+comm+'/intermediate_files/all_seqs/R'+R+'F'+F+runnumber+composition+'.fasta')"
   ]
  },
  {
   "cell_type": "markdown",
   "metadata": {},
   "source": [
    "__make_phylo_tree__ runs mafft and FastTree to align and build a sequence tree for the sequences from all the trimming length combinations"
   ]
  },
  {
   "cell_type": "code",
   "execution_count": 9,
   "metadata": {},
   "outputs": [],
   "source": [
    "def make_phylo_tree(separated):\n",
    "    tax_key = separated[['Taxon', 'feature_id']].copy() #extract columns\n",
    "    tax_key['key'] = [s.split('; ')[-2:] for s in tax_key['Taxon']] #extract only the last two tax ranks for visualization\n",
    "    tax_key['key'] = tax_key['key'].apply(lambda x: '_'.join(map(str, x))) #convert list of last two ranks to string\n",
    "    tax_keys = tax_key.copy()\n",
    "    tax_keys_dic = pd.Series(tax_keys.key.values,tax_keys.feature_id.values).to_dict() #make into dictionary\n",
    "    \n",
    "    with open(comm+'/intermediate_files/all_seqs/R'+R+'F'+F+runnumber+composition+'.fasta') as original, open(comm+'/intermediate_files/all_seqs/R'+R+'F'+F+runnumber+composition+'_taxoids.fasta', 'w') as corrected:\n",
    "        for seq_record in SeqIO.parse(original, 'fasta'):\n",
    "            if seq_record.id in tax_keys_dic:\n",
    "                seq_record.id = seq_record.description = tax_keys_dic[seq_record.id]\n",
    "            SeqIO.write(seq_record, corrected, 'fasta')\n",
    "            \n",
    "    ! seqkit rmdup -n < $comm'/intermediate_files/all_seqs/R'$R'F'$F$runnumber$composition'_taxoids.fasta' > out.fa\n",
    "    \n",
    "    ! wc -l out.fa\n",
    "    \n",
    "    # Read in the file\n",
    "    with open('out.fa', 'r') as file :\n",
    "        filedata = file.read()\n",
    "\n",
    "    # Replace the target strings because misinterpreted by FastTree\n",
    "    filedata = filedata.replace('(', '[')\n",
    "    filedata = filedata.replace(')', ']')\n",
    "\n",
    "    # Write the file out again\n",
    "    with open('out.fa', 'w') as file:\n",
    "        file.write(filedata)\n",
    "    \n",
    "    ! ~/mafft-mac/mafft.bat out.fa > aligneddedup.fasta\n",
    "    \n",
    "    ! ~/FastTree -gtr -nt < aligneddedup.fasta > tree_18stg.nwk"
   ]
  },
  {
   "cell_type": "markdown",
   "metadata": {},
   "source": [
    "__make_tbd_hm__ makes a heatmap showing the taxonomic beta diversity of each trim length combination against the expected community. TBD is a dissimilarity index based on taxonomic trees between two samples where 1 is completely different, and 0 is the completely the same."
   ]
  },
  {
   "cell_type": "code",
   "execution_count": 10,
   "metadata": {},
   "outputs": [],
   "source": [
    "def make_tbd_hm(comm, composition, runnumber, level=7):\n",
    "    \n",
    "    if not os.path.isdir('Bacaros_Beta'):\n",
    "        ! git clone https://github.com/alexmanuele/Bacaros_Beta.git\n",
    "        print(\"Bacaros Beta was cloned.\")\n",
    "    else:\n",
    "        print(\"Bacaros Beta is already cloned.\")\n",
    "    \n",
    "    #Move the expected community to the taxonomies folder for comparison\n",
    "    dest_dir = comm+'/intermediate_files/all_taxonomies/'+composition+runnumber\n",
    "    \n",
    "    for file in glob.glob('in-silico-mocks/'+comm+'/'+composition+r'/*/data/taxonomy.tsv'):\n",
    "        print(file+' was moved.')\n",
    "        shutil.copy(file, os.path.join(dest_dir, 'expected.tsv'))\n",
    "        \n",
    "    tax_list = glob.glob('{0}/*.tsv'.format(comm+'/intermediate_files/all_taxonomies/'+composition+runnumber))\n",
    "    textfile = open(\"tax_comp.txt\", \"w\")\n",
    "    for element in tax_list:\n",
    "        textfile.write(element + \"\\n\")\n",
    "    textfile.close()\n",
    "    print(\"Saved all taxonomies list as tax_comp.txt\")\n",
    "\n",
    "    if not os.path.isdir(dest_dir+'/TBD1'):\n",
    "        for i in range(1, 8):\n",
    "            output_dir = 'TBD'+str(i)\n",
    "            os.mkdir(output_dir)\n",
    "            ! python Bacaros_Beta/run_beta.py --input tax_comp.txt --metric t --l $i --output $output_dir\n",
    "            shutil.move(output_dir, dest_dir)\n",
    "    else:\n",
    "        print(\"BTD Already ran\")\n",
    "        \n",
    "    bacaros_dm = pd.read_csv(dest_dir+'/TBD'+str(level)+'/tax_comp.csv')\n",
    "    bacaros_dm = bacaros_dm.set_index('Unnamed: 0')\n",
    "    #bacaros_dm = 1  - bacaros_dm\n",
    "    #bacaros_dm is a distance matrix of table X table\n",
    "    #my_pcoa = skbio.stats.ordination.pcoa(bacaros_dm.values)\n",
    "    #plt.scatter(my_pcoa.samples['PC1'],  my_pcoa.samples['PC2'])\n",
    "    against_exp = bacaros_dm[['expected']].copy()\n",
    "    against_exp = against_exp.reset_index().rename(columns={against_exp.index.name:'sample_name'})\n",
    "    against_exp.drop(against_exp.index[against_exp['sample_name'] == 'expected'], inplace=True)\n",
    "    against_exp['Forward_trim'] = [s.split('R')[0] for s in against_exp['sample_name']]\n",
    "    against_exp['Forward_trim'] = [s.split(runnumber+'F')[1] for s in against_exp['Forward_trim']]\n",
    "    against_exp['Reverse_trim'] = [s.split('R')[1] for s in against_exp['sample_name']]\n",
    "    against_exp[\"Forward_trim\"] = pd.to_numeric(against_exp[\"Forward_trim\"])\n",
    "    against_exp[\"Reverse_trim\"] = pd.to_numeric(against_exp[\"Reverse_trim\"])\n",
    "    against_exp[\"Forward_trim\"].replace({0: 280}, inplace=True)\n",
    "    against_exp[\"Reverse_trim\"].replace({0: 290}, inplace=True)\n",
    "    tohm = against_exp.pivot(\"Forward_trim\", \"Reverse_trim\", \"expected\")\n",
    "    tohm.rename({280: 'full'}, axis=0, inplace=True)\n",
    "    tohm.rename({290: 'full'}, axis=1, inplace=True)\n",
    "    ax = sns.heatmap(tohm, cmap=sns.color_palette(\"coolwarm\", as_cmap=True), vmin=0, vmax=1)\n",
    "    ax.invert_yaxis()\n",
    "    #plt.figure(figsize=(12,12))\n",
    "    fig = ax.get_figure()\n",
    "    fig.savefig(f'outputs/{comm_id}{composition}{runnumber}{level}bacaros.png',\n",
    "                bbox_inches = \"tight\")\n",
    "    \n",
    "    # get max and min values\n",
    "    #print('The min value is {0} and the max value is {1}'.format(df.at[df.stack().index[np.argmin(df.values)]], \n",
    "    #                                                             minv = df.at[df.stack().index[np.argmax(df.values)]]))\n",
    "\n",
    "    return tohm, dest_dir"
   ]
  },
  {
   "cell_type": "code",
   "execution_count": 37,
   "metadata": {},
   "outputs": [],
   "source": [
    "#calculate the min length of reads that lead to a result and make a presence absence"
   ]
  },
  {
   "cell_type": "markdown",
   "metadata": {},
   "source": [
    "__r2_plot__ makes a linear regression of the observed relative abundances of each combination of trim lengths against the expected, and plots each coefficient of determination in a heatmap"
   ]
  },
  {
   "cell_type": "code",
   "execution_count": 38,
   "metadata": {},
   "outputs": [],
   "source": [
    "## to import the expected taxonomies and transofrm to ratios\n",
    "def expected_df(comm, composition):\n",
    "    expected_silva = pd.read_csv('in-silico-mocks/'+comm+'/expected.tsv', sep='\\t')\n",
    "    expected_silva_selected = expected_silva.loc[~((expected_silva[composition+'_percent_expected'] == 0))]\n",
    "    expected_silva_selected[composition+'_ratio_expected'] = expected_silva_selected[composition+'_percent_expected']/(expected_silva_selected[composition+'_percent_expected'].sum())\n",
    "    ax = sns.barplot(x=composition+\"_ratio_expected\", y=\"Clone_name\", data=expected_silva_selected, saturation=.5)\n",
    "    ax.set(xlabel='Relative abundance', ylabel='Group')\n",
    "    #ax.bar_label(ax.containers[0])\n",
    "    ax.spines['right'].set_visible(False)\n",
    "    ax.spines['top'].set_visible(False)\n",
    "    ax.figure.savefig(comm+composition+'_expected.png', bbox_inches='tight')\n",
    "    fig = ax.get_figure()\n",
    "    fig.savefig('outputs/'+comm+composition+'_expected.png', bbox_inches = \"tight\")\n",
    "\n",
    "        \n",
    "    #make r2 fig\n",
    "    expobs_comp = separated.merge(expected_silva_selected, on='Taxon', how='outer')\n",
    "    expobs_comp = expobs_comp.fillna(0)\n",
    "    expobs_comp[\"Clone_name\"].replace({0: \"False positive\"}, inplace=True)\n",
    "    grouped = expobs_comp.groupby(['Forward_trim', 'Reverse_trim'])\n",
    "    test = (grouped.apply(lambda x: pd.Series(stats.linregress(x[composition+'_ratio_expected'], x['ratio'])))\n",
    "               .rename(columns={\n",
    "                        0: 'slope',\n",
    "                        1: 'intercept',\n",
    "                        2: 'rvalue',\n",
    "                        3: 'pvalue',\n",
    "                        4: 'stderr'}))\n",
    "    test['r2'] = test['rvalue']**2\n",
    "    testcopy = test.reset_index()\n",
    "    testcopy[\"Forward_trim\"].replace({0: 300}, inplace=True) #0 trim length translates to no trimming, so max read length\n",
    "    testcopy[\"Reverse_trim\"].replace({0: 300}, inplace=True)\n",
    "    tohm = testcopy.pivot(\"Forward_trim\", \"Reverse_trim\", \"r2\")\n",
    "    tohm.fillna(0)\n",
    "    ax = sns.heatmap(tohm,cmap=(\"coolwarm\"), vmin=0, vmax=1)\n",
    "    ax.invert_yaxis()\n",
    "    #plt.figure(figsize=(12,12))\n",
    "    ax.set(xlabel='Reverse trim length', ylabel='Forward trim length')\n",
    "    fig = ax.get_figure()\n",
    "    fig.savefig('outputs/'+comm_id+composition+runnumber+'_r2.png', bbox_inches = \"tight\")\n",
    "\n",
    "\n",
    "    return expected_silva_selected, testcopy, expobs_comp"
   ]
  },
  {
   "cell_type": "markdown",
   "metadata": {},
   "source": [
    "__make_fold_change_plots__ makes a heatmap of the log2 fold change for all expected groups"
   ]
  },
  {
   "cell_type": "code",
   "execution_count": 54,
   "metadata": {},
   "outputs": [],
   "source": [
    "def make_fold_change_plots(expobs_comp, composition):\n",
    "    #add the keys to expobs for matching with the tree tip labels\n",
    "    expobs_comp['key'] = [s.split('; ')[-2:] for s in expobs_comp['Taxon']] #extract only the last two tax ranks for visualization\n",
    "    expobs_comp['key'] = expobs_comp['key'].apply(lambda x: '_'.join(map(str, x))) #convert list of last two ranks to string\n",
    "    expobs_comp['ratio'] = expobs_comp['ratio'].fillna(0)\n",
    "    \n",
    "    separcopy = expobs_comp.copy()\n",
    "    separcopy['Phylum'] = separcopy['Taxon'].str.split('; ').str[1]\n",
    "    separcopy['Phylum'] = separcopy['Phylum'].str.split('p__').str[1]\n",
    "    \n",
    "    separcopy[[composition+'_ratio_expected']] = separcopy[[composition+'_ratio_expected']].apply(pd.to_numeric)\n",
    "    separcopy['Type'] = np.where(\n",
    "        separcopy[composition+'_ratio_expected'] > 0, 'TP', 'FP')\n",
    "    \n",
    "    separcopy['Size'] = separcopy['ratio'].copy()\n",
    "    separcopy = separcopy.rename(columns={\"key\": \"ID\"})\n",
    "    \n",
    "    clonenames = separcopy.Clone_name.unique().tolist()\n",
    "    clonenames_id = [clonename.replace(' ', '_') for clonename in clonenames]\n",
    "    clonenames_id = [clonename.replace('(', '') for clonename in clonenames_id]\n",
    "    clonenames_id = [clonename.replace(')', '') for clonename in clonenames_id]\n",
    "    \n",
    "    for clonename in clonenames:\n",
    "        clone = separcopy.loc[separcopy['Clone_name'] == clonename]\n",
    "        clone = clone[['Forward_trim', 'Reverse_trim', composition+'_ratio_expected', 'ratio']]\n",
    "        clone = clone.groupby(['Forward_trim', 'Reverse_trim']).mean()\n",
    "        clone = clone.reset_index()\n",
    "        clone['fold_change'] = clone['ratio']/clone[composition+'_ratio_expected']\n",
    "        clone['log2_fold_change'] = np.log2(clone['fold_change'])\n",
    "        forhm = pd.pivot_table(clone, values= 'log2_fold_change', index='Forward_trim', columns='Reverse_trim')\n",
    "        forhm = forhm.fillna(0)\n",
    "        ax = sns.heatmap(forhm, cmap=sns.color_palette(\"coolwarm\", as_cmap=True))#, cbar=False)\n",
    "        ax.invert_yaxis()\n",
    "        fig = ax.get_figure()\n",
    "        fig.savefig(f'outputs/{comm_id}{composition}{runnumber}{clonename}.png',\n",
    "                    bbox_inches = \"tight\")\n",
    "        plt.clf()\n"
   ]
  },
  {
   "cell_type": "markdown",
   "metadata": {},
   "source": [
    "__even_comm_expected__ makes a catplot for the even 16S and 18S community to compare each expected clone and false positives against it's observed ratio for each trim length combination"
   ]
  },
  {
   "cell_type": "code",
   "execution_count": 12,
   "metadata": {},
   "outputs": [],
   "source": [
    "def even_comm_expected():\n",
    "    expobs_comp_copy = expobs_comp[['table_id', 'ratio', 'Clone_name', 'sample-id', 'Forward_trim', 'Reverse_trim']].copy()\n",
    "    expobs_comp_copy['sums'] = expobs_comp_copy.groupby(['table_id', 'sample-id', 'Clone_name'])['ratio'].transform(lambda x: x.sum())\n",
    "    expobs_comp_copy[\"Forward_trim\"].replace({0: 280}, inplace=True)\n",
    "    expobs_comp_copy[\"Reverse_trim\"].replace({0: 290}, inplace=True)\n",
    "    \n",
    "    g = sns.catplot(x=\"Clone_name\", y=\"sums\", hue=\"Forward_trim\", kind=\"point\", data=expobs_comp_copy, xticklabels=1, scale = 0.5#marker size \n",
    "                , palette='gray_r', size = 4, aspect = 2)\n",
    "    #g.set(ylim=(0, 1))\n",
    "    g.set(xlabel='Clone name', ylabel='Proportion', yticks=np.arange(0,1.02,0.2))\n",
    "    for axes in g.axes.flat:\n",
    "        _ = axes.set_xticklabels(axes.get_xticklabels(), rotation=85)\n",
    "    #g.tight_layout()\n",
    "    g.savefig(f'outputs/{comm_id}{composition}{runnumber}obsratioline_angle85.png',\n",
    "                bbox_inches = \"tight\")"
   ]
  },
  {
   "cell_type": "markdown",
   "metadata": {},
   "source": [
    "__ttst__ runs a t-test for each expected clone for a given trim length combination"
   ]
  },
  {
   "cell_type": "code",
   "execution_count": 75,
   "metadata": {},
   "outputs": [],
   "source": [
    "#run 1 sample t test\n",
    "#takes trimcombination in format F40R40\n",
    "def ttst(trimcombination):\n",
    "    compr_obs_exp = expected_silva_selected.merge(separated, how='outer', on='Taxon')\n",
    "    compr_obs_exp = compr_obs_exp.rename(columns={'sample-id': 'Replicate'})\n",
    "    compr_obs_exp=compr_obs_exp.fillna(0)\n",
    "    compr_obs_exp[\"Clone_name\"].replace({0: \"False positive\"}, inplace=True)\n",
    "    df_with_groups = compr_obs_exp[compr_obs_exp.table_id == trimcombination]\n",
    "    \n",
    "    #add if empty, return message saying this trim length is bad!\n",
    "    \n",
    "    \n",
    "    means = df_with_groups.groupby('Clone_name').mean()\n",
    "    newsi=means[[composition+'_ratio_expected', 'ratio']].copy()\n",
    "    newsi.sort_values(composition+'_ratio_expected', ascending = False)\n",
    "    newsi['Difference'] = newsi[composition+'_ratio_expected'] / newsi['ratio']\n",
    "    newsi\n",
    "    \n",
    "    # generate a boxplot to see the data distribution by treatments. Using boxplot, we can easily detect the differences between different treatments\n",
    "    ax = sns.boxplot(x='ratio', y='Clone_name', data=df_with_groups).set(\n",
    "    xlabel='Relative abundance', \n",
    "    ylabel='Group'\n",
    "    )\n",
    "    plt.show()\n",
    "\n",
    "    \n",
    "    groups = df_with_groups['Clone_name'].unique()\n",
    "    results = []\n",
    "    for group in groups:    \n",
    "        arr = df_with_groups[(df_with_groups['Clone_name'] == group)]['ratio'].values  #Filter the dataframe. \n",
    "        results.append({'Clone_name': group,\n",
    "                        'ratios': arr}) #Make a single \"record\" containing the table id, replicate, and ratio array.\n",
    "        r_gr = pd.DataFrame.from_records(results)\n",
    "    \n",
    "    y = expected_silva_selected[composition+'_ratio_expected']\n",
    "    for i in range(len(y[0:-1])):\n",
    "        xi = r_gr.iloc[i]['ratios']\n",
    "        yi = y[i]\n",
    "        print(r_gr.iloc[i]['Clone_name'])\n",
    "        print(stats.ttest_1samp(xi, yi))\n",
    "        #but there are outliers\n",
    "    return (r_gr, newsi)"
   ]
  },
  {
   "cell_type": "code",
   "execution_count": 56,
   "metadata": {},
   "outputs": [],
   "source": [
    "def thresholds():\n",
    "    dic = {\n",
    "        \"Domain\": f'{dest_dir}/TBD1/tax_comp.csv',\n",
    "        \"Phylum\": f'{dest_dir}/TBD2/tax_comp.csv',\n",
    "        \"Class\": f'{dest_dir}/TBD3/tax_comp.csv',\n",
    "        \"Order\": f'{dest_dir}/TBD4/tax_comp.csv',\n",
    "        \"Family\": f'{dest_dir}/TBD5/tax_comp.csv',\n",
    "        \"Genus\": f'{dest_dir}/TBD6/tax_comp.csv',\n",
    "        \"Species\": f'{dest_dir}/TBD7/tax_comp.csv'\n",
    "    }\n",
    "    thresholds = [1.0, 0.95, 0.90, 0.85, 0.80, 0.75, 0.70, 0.65, 0.60, 0.55, 0.50, 0.45, 0.40, 0.35, 0.30, 0.25, 0.20, 0.15, 0.10, 0.05, 0]\n",
    "    df = pd.DataFrame(columns=['Rank', *thresholds]) #* unpack the list and adds to list, **is for unpacking dictionaries\n",
    "    #eg. d3 = {**d1, **d2} or l3 = [*l1, *l2]\n",
    "    for key in dic.keys():\n",
    "        #tohm, dest_dir = make_tbd_hm(comm, composition, runnumber, level='6')\n",
    "        #tohm, bacaros_dm, agexp = make_tbd_hm(dic[key], expected_file) #input the value of each key from the dictionary\n",
    "        tohm = pd.read_csv(dic[key], index_col=0)\n",
    "        row ={'Rank': key} #make an empty dictionary\n",
    "        for thresh in thresholds:\n",
    "            pp = ((tohm[tohm > thresh].count().sum())/tohm.size)*100\n",
    "            row[thresh] = pp\n",
    "        df = df.append(row, ignore_index=True)\n",
    "    \n",
    "    newdf = df.set_index(['Rank'])\n",
    "    newdf['Rank'] = newdf.index\n",
    "    melted = newdf.melt('Rank', var_name='Thresholds', value_name='TD')\n",
    "    melted[[\"Thresholds\", \"TD\"]]=melted[[\"Thresholds\", \"TD\"]].apply(pd.to_numeric)\n",
    "    \n",
    "    sns.set_context('paper')\n",
    "    fig = plt.figure(figsize=(5,5))\n",
    "    p = sns.lineplot(data=melted, x=\"Thresholds\", y=\"TD\", hue='Rank', legend = True)\n",
    "    p.set(ylim=(0, 100))\n",
    "    p.set(xlim=(0,1))\n",
    "    p.set_xlabel(\"\\u03B2 diversity\") #, fontsize = 10)\n",
    "    p.set_ylabel(\"Percentage of tables\",)# fontsize = 10)\n",
    "    #p.invert_xaxis()\n",
    "    ax = p.get_figure()\n",
    "    ax.savefig(f'outputs/thresholds{comm_id}_{composition}_{runnumber}_with_legend.png', format='png', dpi=600, bbox_inches=\"tight\")\n",
    "    return df"
   ]
  },
  {
   "cell_type": "markdown",
   "metadata": {},
   "source": [
    "__get_fig_per_group__ makes a heatmap of the observed against expected relative abundances for given group names and colors ratios above the expected in blues, and below the expected in reds."
   ]
  },
  {
   "cell_type": "code",
   "execution_count": 186,
   "metadata": {},
   "outputs": [],
   "source": [
    "def get_fig_per_group(groupname, expectedratio, duplicate='mean'):\n",
    "    neoceratium = separated[separated['Taxon'].str.contains(groupname)]\n",
    "    neoceratium = neoceratium[neoceratium.feature_frequency !=0]\n",
    "    neoceratium.rename(columns = {'sample-id':'sample_id'}, inplace=True)\n",
    "    if duplicate!='mean':\n",
    "        neoceratiumR1 = neoceratium[neoceratium.sample_id == 'R46-'+comm_id+'-'+duplicate]\n",
    "    else:\n",
    "        neoceratiumR1 = neoceratium.groupby(['Forward_trim','Reverse_trim'])[['ratio']].mean()\n",
    "        neoceratiumR1 = neoceratiumR1.reset_index()\n",
    "    neoceratiumR1[\"Forward_trim\"] = pd.to_numeric(neoceratiumR1[\"Forward_trim\"])\n",
    "    neoceratiumR1[\"Reverse_trim\"] = pd.to_numeric(neoceratiumR1[\"Reverse_trim\"])\n",
    "    neoceratiumR1[\"Forward_trim\"].replace({0: 280}, inplace=True)\n",
    "    neoceratiumR1[\"Reverse_trim\"].replace({0: 290}, inplace=True)\n",
    "    neoceratiumR1merged = neoceratiumR1.groupby(['Forward_trim','Reverse_trim'])[['ratio']].mean()\n",
    "    neoceratiumR1merged = neoceratiumR1merged.reset_index()\n",
    "    tohm = neoceratiumR1merged.pivot(\"Forward_trim\", \"Reverse_trim\", \"ratio\")\n",
    "    tohm.rename({280: 'full'}, axis=0, inplace=True)\n",
    "    tohm.rename({290: 'full'}, axis=1, inplace=True)\n",
    "    ax = sns.heatmap(tohm, cmap=\"Oranges_r\")#, mask= (tohm < (expectedratio-(0.0005*expectedratio))) & (tohm > (expectedratio+(0.0005*expectedratio)))) #cmap=sns.color_palette(\"hls\", 90)\n",
    "    ax = sns.heatmap(tohm, mask=tohm <= expectedratio, cmap=sns.color_palette(\"GnBu\", 5)) #square=True, annot=False, vmin=0, vmax=1, cbar=False, ax=ax)\n",
    "    #ax = sns.heatmap(tohm, mask=tohm >= expectedratio, cmap=sns.color_palette(\"Oranges_r\", 5)) #square=True, annot=False, vmin=0, vmax=1, cbar=False, ax=ax)\n",
    "    ax.invert_yaxis()\n",
    "    plt.figure(figsize=(12,12))\n",
    "    ax.set(xlabel='Reverse trim length', ylabel='Forward trim length')\n",
    "    fig = ax.get_figure()\n",
    "    fig.savefig('ratio'+groupname+'.png', bbox_inches = \"tight\")\n",
    "    return neoceratiumR1merged"
   ]
  },
  {
   "cell_type": "markdown",
   "metadata": {},
   "source": [
    "__ttst__ runs one sample t tests between each taxonomic groups observed against expected relative abundances, and plots the results in a boxplot for a single trimming combination"
   ]
  },
  {
   "cell_type": "code",
   "execution_count": 387,
   "metadata": {},
   "outputs": [],
   "source": [
    "#run 1 sample t test\n",
    "#takes trimcombination in format F40R40\n",
    "def ttst(trimcombination):\n",
    "    compr_obs_exp = expstagg.merge(separated, how='outer', on='Taxon')\n",
    "    compr_obs_exp = compr_obs_exp.rename(columns={'sample-id': 'Replicate'})\n",
    "    compr_obs_exp=compr_obs_exp.fillna(0)\n",
    "    compr_obs_exp[\"group\"].replace({0: \"False positive\"}, inplace=True)\n",
    "    df_with_groups = compr_obs_exp[compr_obs_exp.table_id == trimcombination]\n",
    "    \n",
    "    \n",
    "    means = df_with_groups.groupby('group').mean()\n",
    "    newsi=means[['expected_ratio', 'ratio']].copy()\n",
    "    newsi.sort_values('expected_ratio', ascending = False)\n",
    "    newsi['Difference'] = newsi['expected_ratio'] / newsi['ratio']\n",
    "    newsi\n",
    "    \n",
    "    # generate a boxplot to see the data distribution by treatments. Using boxplot, we can easily detect the differences between different treatments\n",
    "    ax = sns.boxplot(x='ratio', y='group', data=df_with_groups).set(\n",
    "    xlabel='Relative abundance', \n",
    "    ylabel='Group'\n",
    "    )\n",
    "    #ax.tick_params(axis='x', labelrotation=90)\n",
    "    plt.show()\n",
    "    \n",
    "    results = []\n",
    "    for group in groups:    \n",
    "        arr = df_with_groups[(df_with_groups['group'] == group)]['ratio'].values  #Filter the dataframe. \n",
    "        results.append({'group': group,\n",
    "                        'ratios': arr}) #Make a single \"record\" containing the table id, replicate, and ratio array.\n",
    "        r_gr = pd.DataFrame.from_records(results)\n",
    "    \n",
    "    y = expstagg['expected_ratio']\n",
    "    for i in range(len(y[0:-1])):\n",
    "        xi = r_gr.iloc[i]['ratios']\n",
    "        yi = y[i]\n",
    "        print(r_gr.iloc[i]['group'])\n",
    "        print(stats.ttest_1samp(xi, yi))\n",
    "        #but there are outliers\n",
    "    return (r_gr, newsi)"
   ]
  },
  {
   "cell_type": "markdown",
   "metadata": {},
   "source": [
    "## Run analyses and make figures"
   ]
  },
  {
   "cell_type": "code",
   "execution_count": 410,
   "metadata": {},
   "outputs": [],
   "source": [
    "def get_figures(community, composition, runnumber, R='all', F='all',level=7):\n",
    "    \n",
    "    df, comm, comm_id = consolidate_tables(community) #concat all feature tables and their pipeline parameters\n",
    "    merged = merge_metadata() #add the metadata\n",
    "    composition, runnumber, R, F, separated_taxonomies, separated_dic, files, tax, separated, taxos = pick_metadata(composition, runnumber)\n",
    "    pick_taxonomies() #rename the taxonomy tsv files for taxonomic beta diversity\n",
    "    make_fasta() #extract the sequences\n",
    "    make_tbd_hm(level=7) #make TBD heatmap\n",
    "    ## add function to find best trim length ranges (white box)\n",
    "    ## add table of thresholds + line plot\n",
    "    r2_plot()\n",
    "    ##run t tests for best TBD and best r2, make boxplot\n",
    "    #get_fig_per_group()\n",
    "    ## get sequence comparison\n",
    "    ## get files for import to evolview --tree, abundance table, branch coloring and expected ratios\n",
    "    \n",
    "    return"
   ]
  },
  {
   "cell_type": "code",
   "execution_count": 411,
   "metadata": {},
   "outputs": [
    {
     "name": "stdout",
     "output_type": "stream",
     "text": [
      "Found all tables\n",
      "Success.\n",
      "Set up manifest ...\n",
      "Set up metadata ...\n",
      "Saved merged_asvs_metadata.tsv\n",
      "Appended all taxonomies to taxos\n"
     ]
    },
    {
     "name": "stderr",
     "output_type": "stream",
     "text": [
      "/Users/Diana/miniconda3/envs/qiime2-2020.111/lib/python3.6/site-packages/ipykernel_launcher.py:17: FutureWarning: Columnar iteration over characters will be deprecated in future releases.\n"
     ]
    },
    {
     "name": "stdout",
     "output_type": "stream",
     "text": [
      "Taxonomies already split\n",
      "Saved selected sequences as 02-PROKs/all_seqs/RallFall46Staggered.fasta\n",
      "Bacaros Beta is already cloned.\n",
      "in-silico-mocks/02-PROKs/Staggered/7fee7113-8e8a-459b-ae32-6d8381294d5c/data/taxonomy.tsv was moved.\n",
      "Saved all taxonomies list as tax_comp.txt\n",
      "BTD Already ran\n"
     ]
    },
    {
     "data": {
      "image/png": "[encoded data removed]",
      "text/plain": [
       "<Figure size 432x288 with 2 Axes>"
      ]
     },
     "metadata": {
      "needs_background": "light"
     },
     "output_type": "display_data"
    },
    {
     "data": {
      "image/png": "[encoded data removed]",
      "text/plain": [
       "<Figure size 864x864 with 2 Axes>"
      ]
     },
     "metadata": {
      "needs_background": "light"
     },
     "output_type": "display_data"
    },
    {
     "data": {
      "text/plain": [
       "<Figure size 864x864 with 0 Axes>"
      ]
     },
     "metadata": {},
     "output_type": "display_data"
    }
   ],
   "source": [
    "get_figures('18S', 'Staggered', '46')"
   ]
  },
  {
   "cell_type": "code",
   "execution_count": null,
   "metadata": {},
   "outputs": [],
   "source": []
  },
  {
   "cell_type": "code",
   "execution_count": null,
   "metadata": {},
   "outputs": [],
   "source": []
  }
 ],
 "metadata": {
  "kernelspec": {
   "display_name": "qiime2-2020.111",
   "language": "python",
   "name": "qiime2-2020.111"
  },
  "language_info": {
   "codemirror_mode": {
    "name": "ipython",
    "version": 3
   },
   "file_extension": ".py",
   "mimetype": "text/x-python",
   "name": "python",
   "nbconvert_exporter": "python",
   "pygments_lexer": "ipython3",
   "version": "3.6.12"
  }
 },
 "nbformat": 4,
 "nbformat_minor": 4
}
