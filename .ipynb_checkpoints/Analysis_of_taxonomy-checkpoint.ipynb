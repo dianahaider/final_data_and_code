{
 "cells": [
  {
   "cell_type": "markdown",
   "metadata": {},
   "source": [
    "## Analysis of Taxonomy\n",
    "This is a script to analyze the taxonomy files (with and without abundances)"
   ]
  },
  {
   "cell_type": "code",
   "execution_count": 25,
   "metadata": {},
   "outputs": [],
   "source": [
    "#import libraries in python3 kernel\n",
    "import pandas as pd\n",
    "import seaborn as sns\n",
    "import glob\n",
    "import os\n",
    "import boto\n",
    "import matplotlib.pyplot as plt\n",
    "import numpy as np\n",
    "import skbio\n",
    "from Bio import SeqIO\n",
    "from Bio.SeqIO.FastaIO import SimpleFastaParser\n",
    "from Bio.SeqUtils import GC\n",
    "from collections import defaultdict\n",
    "from collections import Counter\n",
    "import statistics\n",
    "%matplotlib inline"
   ]
  },
  {
   "cell_type": "markdown",
   "metadata": {},
   "source": [
    "Adapt manifest and metadata files\n",
    "This function outputs MERGED which is a table with the metadata attached to each ASV ids along with their respetive abundances. It takes as an input:\n",
    "all_merged: output of consolidate_tables.py\n"
   ]
  },
  {
   "cell_type": "code",
   "execution_count": 26,
   "metadata": {},
   "outputs": [],
   "source": [
    "#paths to files needed as inputs for respective functions\n",
    "all_merged_path = '/Users/Diana/Documents/escuela/phd/plugin_paper/mock_code/18S/merged_all_18s_tables.tsv'\n",
    "manifestfile_path = '/Users/Diana/Documents/escuela/phd/plugin_paper/mock_code/16S/02-PROKs/MANIFEST.tsv'\n",
    "metadatafile_path = '/Users/Diana/Documents/escuela/phd/plugin_paper/mock_code/16S/Runs_46_47_55_18years_SPOT_USC_2/METADATA_F08.tsv'\n",
    "path_to_tsvs = '/Users/Diana/Documents/escuela/phd/plugin_paper/mock_code/18S/all_trims/all_taxonomies/'\n",
    "path_to_bacaro = '/Users/Diana/Documents/escuela/phd/plugin_paper/mock_code/18S/TD_metric/Bacaros_Beta/all18slvl4/all_18s_stagg_taxo.csv'\n",
    "expected_file = 'expected_18s_staggered'"
   ]
  },
  {
   "cell_type": "code",
   "execution_count": 27,
   "metadata": {},
   "outputs": [],
   "source": [
    "def adapt_metadata(all_merged, manifestfile, metadatafile):\n",
    "    df = pd.read_csv(all_merged, sep='\\t')\n",
    "    tables = df[['sample_name', 'feature_id', 'feature_frequency']].copy()\n",
    "    tables.rename(columns={'sample_name':'file'}, inplace=True)\n",
    "    manifest = pd.read_csv(manifestfile, sep='\\t')\n",
    "    manifest['file'] = [s.split('SPOT_USC_2/')[1] for s in manifest['absolute-filepath']]\n",
    "    manifest['file'] = [s.split('.R')[0] for s in manifest['file']]\n",
    "    manifest = manifest.drop(columns = ['absolute-filepath', 'direction'])\n",
    "    manifest.drop_duplicates()\n",
    "    merged = pd.merge(tables,manifest, on='file')\n",
    "    merged = merged.drop(columns = ['file'])\n",
    "    merged = merged.drop_duplicates()\n",
    "    print('Set up manifest ...')\n",
    "    metadata = pd.read_csv(metadatafile, sep='\\t')\n",
    "    merged = pd.merge(merged,metadata, on='sample-id')\n",
    "    print('Set up metadata ...')\n",
    "    merged.to_csv('filtering_asvs.tsv', sep = '\\t')\n",
    "    print('Saved filtering_asvs.tsv')\n",
    "    return merged"
   ]
  },
  {
   "cell_type": "code",
   "execution_count": 28,
   "metadata": {},
   "outputs": [
    {
     "name": "stdout",
     "output_type": "stream",
     "text": [
      "Set up manifest ...\n",
      "Set up metadata ...\n",
      "Saved filtering_asvs.tsv\n"
     ]
    }
   ],
   "source": [
    "merged = adapt_metadata(all_merged_path, manifestfile_path, metadatafile_path)"
   ]
  },
  {
   "cell_type": "code",
   "execution_count": 29,
   "metadata": {},
   "outputs": [],
   "source": [
    "def get_abundances(path, composition, runnumber):\n",
    "    files = glob.glob('{0}*.tsv'.format(path))\n",
    "    taxos = []\n",
    "#    if not os.path.exists(path+composition):\n",
    "#        os.mkdir(path+composition)\n",
    "    for filename in files:\n",
    "        tax = pd.read_csv(filename, sep='\\t')\n",
    "        tax['table_id'] = str(filename.split('/')[-1])\n",
    "        tax[\"table_id\"] = tax[\"table_id\"].str.replace(\".tsv\", \"\")\n",
    "        tax['Forward_trim'], tax['Reverse_trim'] = tax['table_id'].str.split('R', 1).str\n",
    "        tax['Forward_trim'] = tax['Forward_trim'].map(lambda x: x.lstrip('F'))\n",
    "        taxos.append(tax)\n",
    "    print('Appended all taxonomies to taxos')\n",
    "    taxos = pd.concat(taxos)\n",
    "    taxos = taxos.rename(columns={\"Feature ID\": \"feature_id\"}, errors=\"raise\")\n",
    "    new = taxos.merge(merged, how='left', on='feature_id')\n",
    "    return new"
   ]
  },
  {
   "cell_type": "code",
   "execution_count": 30,
   "metadata": {},
   "outputs": [
    {
     "name": "stderr",
     "output_type": "stream",
     "text": [
      "/var/folders/kv/yq6jygk116l27q2bwnk25k0w0000gn/T/ipykernel_91446/1898366886.py:9: FutureWarning: The default value of regex will change from True to False in a future version.\n",
      "  tax[\"table_id\"] = tax[\"table_id\"].str.replace(\".tsv\", \"\")\n",
      "/var/folders/kv/yq6jygk116l27q2bwnk25k0w0000gn/T/ipykernel_91446/1898366886.py:10: FutureWarning: Columnar iteration over characters will be deprecated in future releases.\n",
      "  tax['Forward_trim'], tax['Reverse_trim'] = tax['table_id'].str.split('R', 1).str\n"
     ]
    },
    {
     "name": "stdout",
     "output_type": "stream",
     "text": [
      "Appended all taxonomies to taxos\n"
     ]
    }
   ],
   "source": [
    "new = get_abundances(path_to_tsvs, 'Staggered', '46')"
   ]
  },
  {
   "cell_type": "code",
   "execution_count": 31,
   "metadata": {},
   "outputs": [],
   "source": [
    "def load_df(path, composition, runnumber, foldername):\n",
    "    files = glob.glob('{0}*.tsv'.format(path))\n",
    "    for filename in files:\n",
    "        tax = pd.read_csv(filename, sep='\\t')\n",
    "        tax = tax.rename(columns={\"Feature ID\": \"feature_id\"}, errors=\"raise\")\n",
    "        new = tax.merge(merged, how='left', on='feature_id')\n",
    "        new = new.drop(['Confidence', 'sample-id'], axis=1)\n",
    "        new = new.drop_duplicates()\n",
    "        new = new[new[\"community\"] == '18S']\n",
    "        new = new[new[\"composition\"] == composition]\n",
    "        new['run-number']= new['run-number'].astype(str)\n",
    "        new = new[new[\"run-number\"] == runnumber]\n",
    "        new.to_csv(filename.split(foldername)[0]+foldername+'/'+composition+'/'+runnumber+filename.split(foldername+'/')[1], sep = '\\t')\n",
    "        return files"
   ]
  },
  {
   "cell_type": "markdown",
   "metadata": {},
   "source": [
    "Once all taxonomies are in the same folder, run Bacaro's delta T measure over desired taxonomic level (1 to 7)"
   ]
  },
  {
   "cell_type": "code",
   "execution_count": 32,
   "metadata": {},
   "outputs": [],
   "source": [
    "def hm(path, truthfilename):\n",
    "    bacaros_dm = pd.read_csv(path)\n",
    "    bacaros_dm = bacaros_dm.set_index('Unnamed: 0')\n",
    "    bacaros_dm = 1  - bacaros_dm\n",
    "    #bacaros_dm is a distance matrix of table X table\n",
    "    my_pcoa = skbio.stats.ordination.pcoa(bacaros_dm.values)\n",
    "    plt.scatter(my_pcoa.samples['PC1'],  my_pcoa.samples['PC2'])\n",
    "    against_exp = bacaros_dm[[truthfilename]].copy()\n",
    "    against_exp = against_exp.reset_index().rename(columns={against_exp.index.name:'sample_name'})\n",
    "    against_exp.drop(against_exp.index[against_exp['sample_name'] == truthfilename], inplace=True)\n",
    "    against_exp['Forward_trim'] = [s.split('R')[0] for s in against_exp['sample_name']]\n",
    "    against_exp['Forward_trim'] = [s.split('46F')[1] for s in against_exp['Forward_trim']]\n",
    "    against_exp['Reverse_trim'] = [s.split('R')[1] for s in against_exp['sample_name']]\n",
    "    against_exp[\"Forward_trim\"] = pd.to_numeric(against_exp[\"Forward_trim\"])\n",
    "    against_exp[\"Reverse_trim\"] = pd.to_numeric(against_exp[\"Reverse_trim\"])\n",
    "    tohm = against_exp.pivot(\"Forward_trim\", \"Reverse_trim\", \"expected_18s_staggered\")\n",
    "    ax = sns.heatmap(tohm)\n",
    "    ax.invert_yaxis()\n",
    "    return (tohm, bacaros_dm)"
   ]
  },
  {
   "cell_type": "code",
   "execution_count": 19,
   "metadata": {},
   "outputs": [
    {
     "data": {
      "image/png": "[encoded data removed]",
      "text/plain": [
       "<Figure size 432x288 with 2 Axes>"
      ]
     },
     "metadata": {
      "needs_background": "light"
     },
     "output_type": "display_data"
    }
   ],
   "source": [
    "tohm, bacaros_dm = hm(path_to_bacaro, expected_file)"
   ]
  },
  {
   "cell_type": "code",
   "execution_count": null,
   "metadata": {},
   "outputs": [],
   "source": []
  },
  {
   "cell_type": "code",
   "execution_count": null,
   "metadata": {},
   "outputs": [],
   "source": []
  },
  {
   "cell_type": "code",
   "execution_count": null,
   "metadata": {},
   "outputs": [],
   "source": []
  },
  {
   "cell_type": "code",
   "execution_count": null,
   "metadata": {},
   "outputs": [],
   "source": []
  },
  {
   "cell_type": "code",
   "execution_count": null,
   "metadata": {},
   "outputs": [],
   "source": []
  },
  {
   "cell_type": "code",
   "execution_count": null,
   "metadata": {},
   "outputs": [],
   "source": []
  },
  {
   "cell_type": "code",
   "execution_count": null,
   "metadata": {},
   "outputs": [],
   "source": []
  },
  {
   "cell_type": "code",
   "execution_count": null,
   "metadata": {},
   "outputs": [],
   "source": []
  },
  {
   "cell_type": "code",
   "execution_count": null,
   "metadata": {},
   "outputs": [],
   "source": []
  },
  {
   "cell_type": "code",
   "execution_count": null,
   "metadata": {},
   "outputs": [],
   "source": []
  },
  {
   "cell_type": "code",
   "execution_count": null,
   "metadata": {},
   "outputs": [],
   "source": []
  }
 ],
 "metadata": {
  "kernelspec": {
   "display_name": "pluginanalysis",
   "language": "python",
   "name": "pluginanalysis"
  },
  "language_info": {
   "codemirror_mode": {
    "name": "ipython",
    "version": 3
   },
   "file_extension": ".py",
   "mimetype": "text/x-python",
   "name": "python",
   "nbconvert_exporter": "python",
   "pygments_lexer": "ipython3",
   "version": "3.9.7"
  }
 },
 "nbformat": 4,
 "nbformat_minor": 4
}
